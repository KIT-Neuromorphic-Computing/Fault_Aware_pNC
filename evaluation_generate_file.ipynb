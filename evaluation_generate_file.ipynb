{
 "cells": [
  {
   "cell_type": "code",
   "execution_count": 2,
   "metadata": {},
   "outputs": [],
   "source": [
    "\n",
    "# def generate_sh_file(dataset, project_name, type_nonlinear, fault_ratio):\n",
    "#     job_name = f\"{dataset}_{type_nonlinear}_{fault_ratio}\"\n",
    "#     content = f\"\"\"#!/bin/bash\n",
    "\n",
    "# #SBATCH --job-name={job_name}\n",
    "# #SBATCH --partition=single\n",
    "# #SBATCH --ntasks-per-node=20\n",
    "# #SBATCH --time=72:00:00\n",
    "# #SBATCH --error=%x.%j.err\n",
    "# #SBATCH --output=%x.o%j.%N\n",
    "\n",
    "# python3 experiment.py --DATASET {dataset} --SEED 00 --e_train 0.0 --dropout 0.0 --projectname {project_name} --type_nonlinear {type_nonlinear} --fault_ratio {fault_ratio}&\n",
    "# python3 experiment.py --DATASET {dataset} --SEED 01 --e_train 0.0 --dropout 0.0 --projectname {project_name} --type_nonlinear {type_nonlinear} --fault_ratio {fault_ratio}&\n",
    "# python3 experiment.py --DATASET {dataset} --SEED 02 --e_train 0.0 --dropout 0.0 --projectname {project_name} --type_nonlinear {type_nonlinear} --fault_ratio {fault_ratio}&\n",
    "# python3 experiment.py --DATASET {dataset} --SEED 03 --e_train 0.0 --dropout 0.0 --projectname {project_name} --type_nonlinear {type_nonlinear} --fault_ratio {fault_ratio}&\n",
    "# python3 experiment.py --DATASET {dataset} --SEED 04 --e_train 0.0 --dropout 0.0 --projectname {project_name} --type_nonlinear {type_nonlinear} --fault_ratio {fault_ratio}&\n",
    "# python3 experiment.py --DATASET {dataset} --SEED 05 --e_train 0.0 --dropout 0.0 --projectname {project_name} --type_nonlinear {type_nonlinear} --fault_ratio {fault_ratio}&\n",
    "# python3 experiment.py --DATASET {dataset} --SEED 06 --e_train 0.0 --dropout 0.0 --projectname {project_name} --type_nonlinear {type_nonlinear} --fault_ratio {fault_ratio}&\n",
    "# python3 experiment.py --DATASET {dataset} --SEED 07 --e_train 0.0 --dropout 0.0 --projectname {project_name} --type_nonlinear {type_nonlinear} --fault_ratio {fault_ratio}&\n",
    "# python3 experiment.py --DATASET {dataset} --SEED 08 --e_train 0.0 --dropout 0.0 --projectname {project_name} --type_nonlinear {type_nonlinear} --fault_ratio {fault_ratio}&\n",
    "# python3 experiment.py --DATASET {dataset} --SEED 09 --e_train 0.0 --dropout 0.0 --projectname {project_name} --type_nonlinear {type_nonlinear} --fault_ratio {fault_ratio}&\n",
    "\n",
    "# wait\n",
    "# \"\"\"\n",
    "#     with open(f\"ratio_evaluation_{job_name}.sh\", \"w\") as file:\n",
    "#         file.write(content)"
   ]
  },
  {
   "cell_type": "code",
   "execution_count": 23,
   "metadata": {},
   "outputs": [],
   "source": [
    "\n",
    "def generate_sh_file(dataset_arr, project_name, type_nonlinear, fault_ratio, act):\n",
    "    project_name = \"lag_\" + project_name\n",
    "    job_name = f\"{dataset_arr[0]}_{dataset_arr[1]}_{dataset_arr[2]}_{dataset_arr[3]}_{type_nonlinear}_{fault_ratio}_{act}\"\n",
    "    content = f\"\"\"#!/bin/bash\n",
    "\n",
    "#SBATCH --job-name={job_name}\n",
    "#SBATCH --partition=single\n",
    "#SBATCH --ntasks-per-node=40\n",
    "#SBATCH --time=72:00:00\n",
    "#SBATCH --error=%x.%j.err\n",
    "#SBATCH --output=%x.o%j.%N\n",
    "\n",
    "python3 experiment.py --DATASET {dataset_arr[0]} --SEED 00 --e_train 0.0 --dropout 0.0 --projectname {project_name} --type_nonlinear {type_nonlinear} --fault_ratio {fault_ratio} --act {act} --lagrangian_loss True&\n",
    "python3 experiment.py --DATASET {dataset_arr[0]} --SEED 01 --e_train 0.0 --dropout 0.0 --projectname {project_name} --type_nonlinear {type_nonlinear} --fault_ratio {fault_ratio} --act {act} --lagrangian_loss True&\n",
    "python3 experiment.py --DATASET {dataset_arr[0]} --SEED 02 --e_train 0.0 --dropout 0.0 --projectname {project_name} --type_nonlinear {type_nonlinear} --fault_ratio {fault_ratio} --act {act} --lagrangian_loss True&\n",
    "python3 experiment.py --DATASET {dataset_arr[0]} --SEED 03 --e_train 0.0 --dropout 0.0 --projectname {project_name} --type_nonlinear {type_nonlinear} --fault_ratio {fault_ratio} --act {act} --lagrangian_loss True&\n",
    "python3 experiment.py --DATASET {dataset_arr[0]} --SEED 04 --e_train 0.0 --dropout 0.0 --projectname {project_name} --type_nonlinear {type_nonlinear} --fault_ratio {fault_ratio} --act {act} --lagrangian_loss True&\n",
    "python3 experiment.py --DATASET {dataset_arr[0]} --SEED 05 --e_train 0.0 --dropout 0.0 --projectname {project_name} --type_nonlinear {type_nonlinear} --fault_ratio {fault_ratio} --act {act} --lagrangian_loss True&\n",
    "python3 experiment.py --DATASET {dataset_arr[0]} --SEED 06 --e_train 0.0 --dropout 0.0 --projectname {project_name} --type_nonlinear {type_nonlinear} --fault_ratio {fault_ratio} --act {act} --lagrangian_loss True&\n",
    "python3 experiment.py --DATASET {dataset_arr[0]} --SEED 07 --e_train 0.0 --dropout 0.0 --projectname {project_name} --type_nonlinear {type_nonlinear} --fault_ratio {fault_ratio} --act {act} --lagrangian_loss True&\n",
    "python3 experiment.py --DATASET {dataset_arr[0]} --SEED 08 --e_train 0.0 --dropout 0.0 --projectname {project_name} --type_nonlinear {type_nonlinear} --fault_ratio {fault_ratio} --act {act} --lagrangian_loss True&\n",
    "python3 experiment.py --DATASET {dataset_arr[0]} --SEED 09 --e_train 0.0 --dropout 0.0 --projectname {project_name} --type_nonlinear {type_nonlinear} --fault_ratio {fault_ratio} --act {act} --lagrangian_loss True&\n",
    "\n",
    "python3 experiment.py --DATASET {dataset_arr[1]} --SEED 00 --e_train 0.0 --dropout 0.0 --projectname {project_name} --type_nonlinear {type_nonlinear} --fault_ratio {fault_ratio} --act {act} --lagrangian_loss True&\n",
    "python3 experiment.py --DATASET {dataset_arr[1]} --SEED 01 --e_train 0.0 --dropout 0.0 --projectname {project_name} --type_nonlinear {type_nonlinear} --fault_ratio {fault_ratio} --act {act} --lagrangian_loss True&\n",
    "python3 experiment.py --DATASET {dataset_arr[1]} --SEED 02 --e_train 0.0 --dropout 0.0 --projectname {project_name} --type_nonlinear {type_nonlinear} --fault_ratio {fault_ratio} --act {act} --lagrangian_loss True&\n",
    "python3 experiment.py --DATASET {dataset_arr[1]} --SEED 03 --e_train 0.0 --dropout 0.0 --projectname {project_name} --type_nonlinear {type_nonlinear} --fault_ratio {fault_ratio} --act {act} --lagrangian_loss True&\n",
    "python3 experiment.py --DATASET {dataset_arr[1]} --SEED 04 --e_train 0.0 --dropout 0.0 --projectname {project_name} --type_nonlinear {type_nonlinear} --fault_ratio {fault_ratio} --act {act} --lagrangian_loss True&\n",
    "python3 experiment.py --DATASET {dataset_arr[1]} --SEED 05 --e_train 0.0 --dropout 0.0 --projectname {project_name} --type_nonlinear {type_nonlinear} --fault_ratio {fault_ratio} --act {act} --lagrangian_loss True&\n",
    "python3 experiment.py --DATASET {dataset_arr[1]} --SEED 06 --e_train 0.0 --dropout 0.0 --projectname {project_name} --type_nonlinear {type_nonlinear} --fault_ratio {fault_ratio} --act {act} --lagrangian_loss True&\n",
    "python3 experiment.py --DATASET {dataset_arr[1]} --SEED 07 --e_train 0.0 --dropout 0.0 --projectname {project_name} --type_nonlinear {type_nonlinear} --fault_ratio {fault_ratio} --act {act} --lagrangian_loss True&\n",
    "python3 experiment.py --DATASET {dataset_arr[1]} --SEED 08 --e_train 0.0 --dropout 0.0 --projectname {project_name} --type_nonlinear {type_nonlinear} --fault_ratio {fault_ratio} --act {act} --lagrangian_loss True&\n",
    "python3 experiment.py --DATASET {dataset_arr[1]} --SEED 09 --e_train 0.0 --dropout 0.0 --projectname {project_name} --type_nonlinear {type_nonlinear} --fault_ratio {fault_ratio} --act {act} --lagrangian_loss True&\n",
    "\n",
    "python3 experiment.py --DATASET {dataset_arr[2]} --SEED 00 --e_train 0.0 --dropout 0.0 --projectname {project_name} --type_nonlinear {type_nonlinear} --fault_ratio {fault_ratio} --act {act} --lagrangian_loss True&\n",
    "python3 experiment.py --DATASET {dataset_arr[2]} --SEED 01 --e_train 0.0 --dropout 0.0 --projectname {project_name} --type_nonlinear {type_nonlinear} --fault_ratio {fault_ratio} --act {act} --lagrangian_loss True&\n",
    "python3 experiment.py --DATASET {dataset_arr[2]} --SEED 02 --e_train 0.0 --dropout 0.0 --projectname {project_name} --type_nonlinear {type_nonlinear} --fault_ratio {fault_ratio} --act {act} --lagrangian_loss True&\n",
    "python3 experiment.py --DATASET {dataset_arr[2]} --SEED 03 --e_train 0.0 --dropout 0.0 --projectname {project_name} --type_nonlinear {type_nonlinear} --fault_ratio {fault_ratio} --act {act} --lagrangian_loss True&\n",
    "python3 experiment.py --DATASET {dataset_arr[2]} --SEED 04 --e_train 0.0 --dropout 0.0 --projectname {project_name} --type_nonlinear {type_nonlinear} --fault_ratio {fault_ratio} --act {act} --lagrangian_loss True&\n",
    "python3 experiment.py --DATASET {dataset_arr[2]} --SEED 05 --e_train 0.0 --dropout 0.0 --projectname {project_name} --type_nonlinear {type_nonlinear} --fault_ratio {fault_ratio} --act {act} --lagrangian_loss True&\n",
    "python3 experiment.py --DATASET {dataset_arr[2]} --SEED 06 --e_train 0.0 --dropout 0.0 --projectname {project_name} --type_nonlinear {type_nonlinear} --fault_ratio {fault_ratio} --act {act} --lagrangian_loss True&\n",
    "python3 experiment.py --DATASET {dataset_arr[2]} --SEED 07 --e_train 0.0 --dropout 0.0 --projectname {project_name} --type_nonlinear {type_nonlinear} --fault_ratio {fault_ratio} --act {act} --lagrangian_loss True&\n",
    "python3 experiment.py --DATASET {dataset_arr[2]} --SEED 08 --e_train 0.0 --dropout 0.0 --projectname {project_name} --type_nonlinear {type_nonlinear} --fault_ratio {fault_ratio} --act {act} --lagrangian_loss True&\n",
    "python3 experiment.py --DATASET {dataset_arr[2]} --SEED 09 --e_train 0.0 --dropout 0.0 --projectname {project_name} --type_nonlinear {type_nonlinear} --fault_ratio {fault_ratio} --act {act} --lagrangian_loss True&\n",
    "\n",
    "python3 experiment.py --DATASET {dataset_arr[3]} --SEED 00 --e_train 0.0 --dropout 0.0 --projectname {project_name} --type_nonlinear {type_nonlinear} --fault_ratio {fault_ratio} --act {act} --lagrangian_loss True&\n",
    "python3 experiment.py --DATASET {dataset_arr[3]} --SEED 01 --e_train 0.0 --dropout 0.0 --projectname {project_name} --type_nonlinear {type_nonlinear} --fault_ratio {fault_ratio} --act {act} --lagrangian_loss True&\n",
    "python3 experiment.py --DATASET {dataset_arr[3]} --SEED 02 --e_train 0.0 --dropout 0.0 --projectname {project_name} --type_nonlinear {type_nonlinear} --fault_ratio {fault_ratio} --act {act} --lagrangian_loss True&\n",
    "python3 experiment.py --DATASET {dataset_arr[3]} --SEED 03 --e_train 0.0 --dropout 0.0 --projectname {project_name} --type_nonlinear {type_nonlinear} --fault_ratio {fault_ratio} --act {act} --lagrangian_loss True&\n",
    "python3 experiment.py --DATASET {dataset_arr[3]} --SEED 04 --e_train 0.0 --dropout 0.0 --projectname {project_name} --type_nonlinear {type_nonlinear} --fault_ratio {fault_ratio} --act {act} --lagrangian_loss True&\n",
    "python3 experiment.py --DATASET {dataset_arr[3]} --SEED 05 --e_train 0.0 --dropout 0.0 --projectname {project_name} --type_nonlinear {type_nonlinear} --fault_ratio {fault_ratio} --act {act} --lagrangian_loss True&\n",
    "python3 experiment.py --DATASET {dataset_arr[3]} --SEED 06 --e_train 0.0 --dropout 0.0 --projectname {project_name} --type_nonlinear {type_nonlinear} --fault_ratio {fault_ratio} --act {act} --lagrangian_loss True&\n",
    "python3 experiment.py --DATASET {dataset_arr[3]} --SEED 07 --e_train 0.0 --dropout 0.0 --projectname {project_name} --type_nonlinear {type_nonlinear} --fault_ratio {fault_ratio} --act {act} --lagrangian_loss True&\n",
    "python3 experiment.py --DATASET {dataset_arr[3]} --SEED 08 --e_train 0.0 --dropout 0.0 --projectname {project_name} --type_nonlinear {type_nonlinear} --fault_ratio {fault_ratio} --act {act} --lagrangian_loss True&\n",
    "python3 experiment.py --DATASET {dataset_arr[3]} --SEED 09 --e_train 0.0 --dropout 0.0 --projectname {project_name} --type_nonlinear {type_nonlinear} --fault_ratio {fault_ratio} --act {act} --lagrangian_loss True&\n",
    "\n",
    "wait\n",
    "\"\"\"\n",
    "    with open(f\"lag_ratio_evaluation_{job_name}.sh\", \"w\") as file:\n",
    "        file.write(content)"
   ]
  },
  {
   "cell_type": "code",
   "execution_count": 6,
   "metadata": {},
   "outputs": [
    {
     "data": {
      "text/plain": [
       "13"
      ]
     },
     "execution_count": 6,
     "metadata": {},
     "output_type": "execute_result"
    }
   ],
   "source": [
    "import os\n",
    "\n",
    "folder_path = 'dataset'\n",
    "file_count = len(os.listdir(folder_path))\n",
    "file_count = 13\n",
    "file_count"
   ]
  },
  {
   "cell_type": "code",
   "execution_count": 9,
   "metadata": {},
   "outputs": [
    {
     "name": "stdout",
     "output_type": "stream",
     "text": [
      "0\n",
      "2\n",
      "4\n",
      "5\n",
      "7\n",
      "10\n",
      "11\n",
      "12\n"
     ]
    }
   ],
   "source": [
    "dataset = [0, 2, 4, 5, 7, 10, 11, 12]\n",
    "for i in dataset:\n",
    "    print(i)"
   ]
  },
  {
   "cell_type": "code",
   "execution_count": 28,
   "metadata": {},
   "outputs": [],
   "source": [
    "dataset = [0, 2, 4, 5, 7, 10, 11, 12]\n",
    "project_name = ['FaultAnalysisNormal', 'FaultAnalysisRobust']\n",
    "type_nonlinears = {'robust', 'normal'}\n",
    "acts = {'relu', 'tanh', 'sigmoid', 'cr'}\n",
    "# fault_ratio = [0.0, 0.025, 0.05, 0.075, 0.1]\n",
    "fault_ratio = [0.0, 0.05, 0.1]\n",
    "# fault_ratio = [0.075]"
   ]
  },
  {
   "cell_type": "code",
   "execution_count": 25,
   "metadata": {},
   "outputs": [],
   "source": [
    "dataset = [0, 2, 4, 5, 7, 10, 11, 12]\n",
    "project_name = ['FaultAnalysisNormal', 'FaultAnalysisRobust']\n",
    "type_nonlinears = {'robust', 'normal'}\n",
    "acts = {'none'}\n",
    "# fault_ratio = [0.0, 0.025, 0.05, 0.075, 0.1]\n",
    "fault_ratio = [0.0, 0.05, 0.1]\n",
    "# fault_ratio = [0.075]"
   ]
  },
  {
   "cell_type": "code",
   "execution_count": 30,
   "metadata": {},
   "outputs": [],
   "source": [
    "dataset = [0, 2, 4, 5, 7, 10, 11, 12]\n",
    "project_name = ['FaultAnalysisMixed']\n",
    "type_nonlinears = {'mix'}\n",
    "acts = {'none'}\n",
    "# fault_ratio = [0.0, 0.025, 0.05, 0.075, 0.1]\n",
    "fault_ratio = [0.0, 0.05, 0.1]"
   ]
  },
  {
   "cell_type": "code",
   "execution_count": 11,
   "metadata": {},
   "outputs": [
    {
     "data": {
      "text/plain": [
       "[0, 2, 4, 5, 7, 10, 11, 12]"
      ]
     },
     "execution_count": 11,
     "metadata": {},
     "output_type": "execute_result"
    }
   ],
   "source": [
    "dataset"
   ]
  },
  {
   "cell_type": "code",
   "execution_count": 13,
   "metadata": {},
   "outputs": [
    {
     "data": {
      "text/plain": [
       "range(0, 8, 4)"
      ]
     },
     "execution_count": 13,
     "metadata": {},
     "output_type": "execute_result"
    }
   ],
   "source": [
    "range(0, len(dataset), 4)"
   ]
  },
  {
   "cell_type": "code",
   "execution_count": 31,
   "metadata": {},
   "outputs": [],
   "source": [
    "for act in acts:\n",
    "    for ds_i in range(0, len(dataset), 4):\n",
    "        if ds_i + 1 >= len(dataset):\n",
    "            print(f\"{ds_i + 1} has left\")\n",
    "            break\n",
    "        for a, p in zip(type_nonlinears, project_name):\n",
    "                for fr in fault_ratio:\n",
    "                    pn=act+'_'+str(int(fr*100))+'_'+p\n",
    "                    ds = [dataset[ds_i], dataset[ds_i+1], dataset[ds_i+2], dataset[ds_i+3]]\n",
    "                    generate_sh_file(type_nonlinear=a, dataset_arr=ds, project_name=pn, fault_ratio=fr, act=act)"
   ]
  },
  {
   "cell_type": "code",
   "execution_count": 16,
   "metadata": {},
   "outputs": [
    {
     "data": {
      "text/plain": [
       "13"
      ]
     },
     "execution_count": 16,
     "metadata": {},
     "output_type": "execute_result"
    }
   ],
   "source": [
    "file_count"
   ]
  },
  {
   "cell_type": "code",
   "execution_count": 22,
   "metadata": {},
   "outputs": [
    {
     "data": {
      "text/plain": [
       "range(0, 13, 4)"
      ]
     },
     "execution_count": 22,
     "metadata": {},
     "output_type": "execute_result"
    }
   ],
   "source": [
    "dataset"
   ]
  },
  {
   "cell_type": "code",
   "execution_count": 32,
   "metadata": {},
   "outputs": [
    {
     "name": "stdout",
     "output_type": "stream",
     "text": [
      "sbatch lag_ratio_evaluation_0_2_4_5_normal_0.0_none.sh\n",
      "sbatch lag_ratio_evaluation_0_2_4_5_normal_0.05_none.sh\n",
      "sbatch lag_ratio_evaluation_0_2_4_5_normal_0.05_sigmoid.sh\n",
      "sbatch lag_ratio_evaluation_0_2_4_5_mix_0.05_none.sh\n",
      "sbatch lag_ratio_evaluation_0_2_4_5_robust_0.1_cr.sh\n",
      "sbatch lag_ratio_evaluation_0_2_4_5_normal_0.05_tanh.sh\n",
      "sbatch lag_ratio_evaluation_0_2_4_5_normal_0.1_cr.sh\n",
      "sbatch lag_ratio_evaluation_0_2_4_5_robust_0.1_none.sh\n",
      "sbatch lag_ratio_evaluation_0_2_4_5_robust_0.05_relu.sh\n",
      "sbatch lag_ratio_evaluation_0_2_4_5_normal_0.1_tanh.sh\n",
      "sbatch lag_ratio_evaluation_0_2_4_5_normal_0.1_relu.sh\n",
      "sbatch lag_ratio_evaluation_0_2_4_5_robust_0.0_sigmoid.sh\n",
      "sbatch lag_ratio_evaluation_0_2_4_5_robust_0.05_cr.sh\n",
      "sbatch lag_ratio_evaluation_0_2_4_5_normal_0.05_cr.sh\n",
      "sbatch lag_ratio_evaluation_0_2_4_5_robust_0.1_tanh.sh\n",
      "sbatch lag_ratio_evaluation_0_2_4_5_normal_0.1_none.sh\n",
      "sbatch lag_ratio_evaluation_0_2_4_5_normal_0.0_relu.sh\n",
      "sbatch lag_ratio_evaluation_0_2_4_5_robust_0.05_none.sh\n",
      "sbatch lag_ratio_evaluation_0_2_4_5_robust_0.0_cr.sh\n",
      "sbatch lag_ratio_evaluation_0_2_4_5_robust_0.1_sigmoid.sh\n",
      "sbatch lag_ratio_evaluation_0_2_4_5_normal_0.0_cr.sh\n",
      "sbatch lag_ratio_evaluation_0_2_4_5_robust_0.05_sigmoid.sh\n",
      "sbatch lag_ratio_evaluation_0_2_4_5_robust_0.0_tanh.sh\n",
      "sbatch lag_ratio_evaluation_0_2_4_5_normal_0.1_sigmoid.sh\n",
      "sbatch lag_ratio_evaluation_0_2_4_5_mix_0.0_none.sh\n",
      "sbatch lag_ratio_evaluation_0_2_4_5_normal_0.0_tanh.sh\n",
      "sbatch lag_ratio_evaluation_0_2_4_5_robust_0.0_relu.sh\n",
      "sbatch lag_ratio_evaluation_0_2_4_5_mix_0.1_none.sh\n",
      "sbatch lag_ratio_evaluation_0_2_4_5_normal_0.0_sigmoid.sh\n",
      "sbatch lag_ratio_evaluation_0_2_4_5_robust_0.1_relu.sh\n",
      "sbatch lag_ratio_evaluation_0_2_4_5_normal_0.05_relu.sh\n",
      "sbatch lag_ratio_evaluation_0_2_4_5_robust_0.0_none.sh\n",
      "sbatch lag_ratio_evaluation_0_2_4_5_robust_0.05_tanh.sh\n",
      "sbatch lag_ratio_evaluation_7_10_11_12_normal_0.1_sigmoid.sh\n",
      "sbatch lag_ratio_evaluation_7_10_11_12_robust_0.1_relu.sh\n",
      "sbatch lag_ratio_evaluation_7_10_11_12_normal_0.0_sigmoid.sh\n",
      "sbatch lag_ratio_evaluation_7_10_11_12_robust_0.05_none.sh\n",
      "sbatch lag_ratio_evaluation_7_10_11_12_robust_0.1_sigmoid.sh\n",
      "sbatch lag_ratio_evaluation_7_10_11_12_mix_0.1_none.sh\n",
      "sbatch lag_ratio_evaluation_7_10_11_12_robust_0.05_relu.sh\n",
      "sbatch lag_ratio_evaluation_7_10_11_12_robust_0.0_none.sh\n",
      "sbatch lag_ratio_evaluation_7_10_11_12_normal_0.05_relu.sh\n",
      "sbatch lag_ratio_evaluation_7_10_11_12_normal_0.1_tanh.sh\n",
      "sbatch lag_ratio_evaluation_7_10_11_12_robust_0.0_tanh.sh\n",
      "sbatch lag_ratio_evaluation_7_10_11_12_robust_0.1_none.sh\n",
      "sbatch lag_ratio_evaluation_7_10_11_12_normal_0.0_relu.sh\n",
      "sbatch lag_ratio_evaluation_7_10_11_12_mix_0.0_none.sh\n",
      "sbatch lag_ratio_evaluation_7_10_11_12_normal_0.1_none.sh\n",
      "sbatch lag_ratio_evaluation_7_10_11_12_normal_0.05_sigmoid.sh\n",
      "sbatch lag_ratio_evaluation_7_10_11_12_normal_0.0_none.sh\n",
      "sbatch lag_ratio_evaluation_7_10_11_12_robust_0.05_tanh.sh\n",
      "sbatch lag_ratio_evaluation_7_10_11_12_normal_0.05_cr.sh\n",
      "sbatch lag_ratio_evaluation_7_10_11_12_normal_0.1_relu.sh\n",
      "sbatch lag_ratio_evaluation_7_10_11_12_normal_0.1_cr.sh\n",
      "sbatch lag_ratio_evaluation_7_10_11_12_robust_0.0_relu.sh\n",
      "sbatch lag_ratio_evaluation_7_10_11_12_robust_0.05_cr.sh\n",
      "sbatch lag_ratio_evaluation_7_10_11_12_mix_0.05_none.sh\n",
      "sbatch lag_ratio_evaluation_7_10_11_12_robust_0.05_sigmoid.sh\n",
      "sbatch lag_ratio_evaluation_7_10_11_12_robust_0.1_tanh.sh\n",
      "sbatch lag_ratio_evaluation_7_10_11_12_normal_0.05_none.sh\n",
      "sbatch lag_ratio_evaluation_7_10_11_12_robust_0.0_sigmoid.sh\n",
      "sbatch lag_ratio_evaluation_7_10_11_12_robust_0.1_cr.sh\n",
      "sbatch lag_ratio_evaluation_7_10_11_12_normal_0.0_tanh.sh\n",
      "sbatch lag_ratio_evaluation_7_10_11_12_normal_0.0_cr.sh\n",
      "sbatch lag_ratio_evaluation_7_10_11_12_robust_0.0_cr.sh\n",
      "sbatch lag_ratio_evaluation_7_10_11_12_normal_0.05_tanh.sh\n"
     ]
    }
   ],
   "source": [
    "import glob\n",
    "for ds_i in range(0, len(dataset), 4):\n",
    "    if ds_i + 1 >= len(dataset):\n",
    "        break\n",
    "    files = glob.glob(f'lag_ratio_evaluation_{dataset[ds_i]}_{dataset[ds_i+1]}_{dataset[ds_i+2]}_{dataset[ds_i+3]}*')\n",
    "    commands = []\n",
    "    for file in files:\n",
    "        command = f\"sbatch {file}\"\n",
    "        print(command)\n",
    "        commands.append(command)\n",
    "    with open(f\"lag_run_evaluation_both_{dataset[ds_i]}_{dataset[ds_i+1]}_{dataset[ds_i+2]}_{dataset[ds_i+3]}.sh\", \"w\") as file_command:\n",
    "        for command in commands:\n",
    "            file_command.write(command + '\\n')\n",
    "        # Execute the command using os.system or subprocess.run\n",
    "        # os.system(command)\n",
    "        # subprocess.run(command, shell=True)"
   ]
  }
 ],
 "metadata": {
  "kernelspec": {
   "display_name": "train-model",
   "language": "python",
   "name": "python3"
  },
  "language_info": {
   "codemirror_mode": {
    "name": "ipython",
    "version": 3
   },
   "file_extension": ".py",
   "mimetype": "text/x-python",
   "name": "python",
   "nbconvert_exporter": "python",
   "pygments_lexer": "ipython3",
   "version": "3.12.2"
  }
 },
 "nbformat": 4,
 "nbformat_minor": 2
}
